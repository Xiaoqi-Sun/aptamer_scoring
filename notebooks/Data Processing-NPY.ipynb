{
 "cells": [
  {
   "cell_type": "code",
   "execution_count": 1,
   "metadata": {},
   "outputs": [],
   "source": [
    "import csv\n",
    "import numpy as np\n",
    "import pandas as pd\n",
    "import matplotlib.pyplot as plt\n",
    "import plotly.express as px\n",
    "import plotly.graph_objects as go\n",
    "import seaborn as sns\n",
    "\n",
    "%matplotlib inline\n",
    "plt.rcParams['figure.figsize'] = (14,8)\n",
    "plt.rcParams['figure.dpi'] = 150\n",
    "sns.set()\n",
    "sns.set_context(\"talk\")"
   ]
  },
  {
   "cell_type": "code",
   "execution_count": 40,
   "metadata": {},
   "outputs": [],
   "source": [
    "# quadrumer functions\n",
    "\n",
    "def extract_quadrumers(aptamer_sequence):\n",
    "    \"\"\"takes in one 18-mer and return a table of quadrumers, with a position column and a quadrumer column\"\"\"\n",
    "    \n",
    "    quadrumers = []\n",
    "    for i in np.arange(len(aptamer_sequence)-3): \n",
    "        quad = aptamer_sequence[i:i+4]\n",
    "        quadrumers = np.append(quadrumers,quad)\n",
    "    return quadrumers\n",
    "\n",
    "\n",
    "def quadrumer_with_position(aptamer_sequence):\n",
    "    \"\"\"return a table with position and relative quadrumer sequence for a given aptamer sequence\"\"\"\n",
    "    \n",
    "    quadrumers = extract_quadrumers(aptamer_sequence)\n",
    "    positions = np.arange(1,len(aptamer_sequence)-2)\n",
    "    return pd.DataFrame({'Position':positions,'Quadrumer':quadrumers})\n",
    "\n",
    "\n",
    "\n",
    "def full_table_quadrumer(tbl):\n",
    "    \"\"\" Function that exports a Trimer and position features from raw data\n",
    "\n",
    "        Inputs:\n",
    "            tbl : a table like RnE\n",
    "            \n",
    "        Outputs:\n",
    "            tbl: columns are 'Position' 'Trimer' and 'Count' Note: not weighted bc missing data\n",
    "    \"\"\"    \n",
    "    total_position = []\n",
    "    total_quad = []\n",
    "\n",
    "    for i in np.arange(len(tbl)):\n",
    "        temp_18mer = tbl['sequence'][i]\n",
    "        temp_df = quadrumer_with_position(temp_18mer).groupby(['Position','Quadrumer']).size().to_frame().reset_index().rename(columns={0:'count'})\n",
    "        total_position = np.append(total_position,temp_df['Position'])\n",
    "        total_quad = np.append(total_quad,temp_df['Quadrumer'])\n",
    "\n",
    "    return pd.DataFrame({'Position':total_position,'Quadrumer':total_quad}).astype({'Position': 'int64'})\n",
    "\n",
    "\n",
    "def freq_only_quadrumer(full_weighted_tbl):\n",
    "    \"\"\" Function that exports a quadrumer and position features from raw data\n",
    "\n",
    "        Inputs:\n",
    "            tbl : full table with position and quad/trimer seqence from full table function    \n",
    "                       \n",
    "        Outputs:\n",
    "            tbl: Aggregated table with summed frequency only. index is quadrumer and col is summed count\n",
    "    \"\"\"       \n",
    "    return full_weighted_tbl.groupby('Quadrumer').count().reset_index().rename(columns={'Position':'Count'})\n",
    "\n"
   ]
  },
  {
   "cell_type": "code",
   "execution_count": 41,
   "metadata": {},
   "outputs": [],
   "source": [
    "# functions for data processing\n",
    "\n",
    "def extract_trimers(aptamer_sequence):\n",
    "    \"\"\"takes in one 18-mer and return a table of quadrumers, with a position column and a quadrumer column\"\"\"\n",
    "    \n",
    "    trimers = []\n",
    "    for i in np.arange(len(aptamer_sequence)-2):\n",
    "        tri = aptamer_sequence[i:i+3]\n",
    "        trimers = np.append(trimers,tri)\n",
    "    return trimers\n",
    "\n",
    "def trimer_with_position(aptamer_sequence):\n",
    "    \"\"\"return a table with position and relative quadrumer sequence for a given aptamer sequence\"\"\"\n",
    "    \n",
    "    trimers = extract_trimers(aptamer_sequence)\n",
    "    positions = np.arange(1,len(aptamer_sequence)-1)\n",
    "    return pd.DataFrame({'Position':positions,'Trimer':trimers})\n",
    "\n",
    "def full_table_trimer(tbl):\n",
    "    \"\"\" Function that exports a Trimer and position features from raw data\n",
    "\n",
    "        Inputs:\n",
    "            tbl : a table like RnE\n",
    "            \n",
    "        Outputs:\n",
    "            tbl: columns are 'Position' 'Trimer' and 'Count' Note: not weighted bc missing data\n",
    "    \"\"\"    \n",
    "    total_position = []\n",
    "    total_tri = []\n",
    "\n",
    "    for i in np.arange(len(tbl)):\n",
    "        temp_18mer = tbl['sequence'][i]\n",
    "        temp_df = trimer_with_position(temp_18mer).groupby(['Position','Trimer']).size().to_frame().reset_index().rename(columns={0:'count'})\n",
    "        total_position = np.append(total_position,temp_df['Position'])\n",
    "        total_tri = np.append(total_tri,temp_df['Trimer'])\n",
    "\n",
    "    return pd.DataFrame({'Position':total_position,'Trimer':total_tri}).astype({'Position': 'int64'})\n",
    "\n",
    "\n",
    "def freq_only_trimer(full_weighted_tbl):\n",
    "    \"\"\" Function that exports a Trimer and position features from raw data\n",
    "\n",
    "        Inputs:\n",
    "            tbl : full table with position and quad/trimer seqence from full table function    \n",
    "                       \n",
    "        Outputs:\n",
    "            tbl: Aggregated table with summed frequency only. index is trimer and col is summed count\n",
    "    \"\"\"       \n",
    "    return full_weighted_tbl.groupby('Trimer').count().reset_index().rename(columns={'Position':'Count'})\n",
    "\n",
    "\n",
    "# not usable bc no RPM\n",
    "def wise_append(original_list, temp_list):\n",
    "    if len(temp_list) == 0:\n",
    "        return np.append(original_list, 0)\n",
    "    else:\n",
    "        return np.append(original_list, temp_list[0])\n",
    "    \n",
    "\n",
    "def expand_df(df):\n",
    "    \"\"\"takes a df with quads as index, and one 'R2E count' column and one 'R6E count' columns\n",
    "    #return a expand it to R3,R4, and R5 using the given index as reference.\"\"\"\n",
    "    R3E_count_6rich2low = []\n",
    "    R4E_count_6rich2low = []\n",
    "    R5E_count_6rich2low = []\n",
    "\n",
    "    for i in df.index:\n",
    "        R3E_temp_6rich2low = R3E_frequency.query(\"Quadrumer == @i\")['Weighted frequency']\n",
    "        R4E_temp_6rich2low = R4E_frequency.query(\"Quadrumer == @i\")['Weighted frequency']\n",
    "        R5E_temp_6rich2low = R5E_frequency.query(\"Quadrumer == @i\")['Weighted frequency']\n",
    "    \n",
    "        R3E_count_6rich2low = wise_append(R3E_count_6rich2low,R3E_temp_6rich2low)\n",
    "        R4E_count_6rich2low = wise_append(R4E_count_6rich2low,R4E_temp_6rich2low)\n",
    "        R5E_count_6rich2low = wise_append(R5E_count_6rich2low,R5E_temp_6rich2low)\n",
    "    \n",
    "    return pd.DataFrame({'R2E':df['R2E count'],\n",
    "                                        'R3E':R3E_count_6rich2low,\n",
    "                                        'R4E':R4E_count_6rich2low,\n",
    "                                        'R5E':R5E_count_6rich2low,\n",
    "                                        'R6E':df['R6E count'],\n",
    "                                       })\n",
    "\n",
    "def expand_df_ctrl(df):\n",
    "    \"\"\" takes a df with quads as index, and one 'R2E count' column and one 'R6E count' columns\n",
    "    return a expand it to R3,R4, and R5 using the given index as reference. \"\"\"\n",
    "    \n",
    "    R3C_count_6rich2low = []\n",
    "    R4C_count_6rich2low = []\n",
    "    R5C_count_6rich2low = []\n",
    "\n",
    "    for i in df.index:\n",
    "        R3C_temp_6rich2low = R3C_frequency.query(\"Quadrumer == @i\")['Weighted frequency']\n",
    "        R4C_temp_6rich2low = R4C_frequency.query(\"Quadrumer == @i\")['Weighted frequency']\n",
    "        R5C_temp_6rich2low = R5C_frequency.query(\"Quadrumer == @i\")['Weighted frequency']\n",
    "    \n",
    "        R3C_count_6rich2low = wise_append(R3C_count_6rich2low,R3C_temp_6rich2low)\n",
    "        R4C_count_6rich2low = wise_append(R4C_count_6rich2low,R4C_temp_6rich2low)\n",
    "        R5C_count_6rich2low = wise_append(R5C_count_6rich2low,R5C_temp_6rich2low)\n",
    "    \n",
    "    return pd.DataFrame({'R2C':df['R2C count'],\n",
    "                                        'R3C':R3C_count_6rich2low,\n",
    "                                        'R4C':R4C_count_6rich2low,\n",
    "                                        'R5C':R5C_count_6rich2low,\n",
    "                                        'R6C':df['R6C count'],\n",
    "                                       })"
   ]
  },
  {
   "cell_type": "markdown",
   "metadata": {},
   "source": [
    "**Import raw data**"
   ]
  },
  {
   "cell_type": "code",
   "execution_count": 4,
   "metadata": {},
   "outputs": [],
   "source": [
    "repo_url = 'https://raw.githubusercontent.com/Xiaoqi-Sun/aptamer_scoring/main/'"
   ]
  },
  {
   "cell_type": "code",
   "execution_count": 5,
   "metadata": {},
   "outputs": [],
   "source": [
    "# # Serotonin (Sequence, Rank, Reads, RPM, Trimed)\n",
    "\n",
    "# for i in np.arange(2,7):\n",
    "#     exec(\"R{}E = pd.read_csv(repo_url+'serotonin%20raw%20data/{}RE.csv')\".format(i, i))\n",
    "#     exec(\"R{}C = pd.read_csv(repo_url+'serotonin%20raw%20data/{}RC.csv')\".format(i, i))"
   ]
  },
  {
   "cell_type": "code",
   "execution_count": 6,
   "metadata": {},
   "outputs": [],
   "source": [
    "# # Oxytocin (Sequence, Reads, RPM)\n",
    "\n",
    "# for i in np.arange(3,7):\n",
    "#     exec(\"R{}E_O = pd.read_csv(repo_url+'Oxytocin%20raw%20data/R{}E_O.csv',header=0,names=['Trimed', 'Reads', 'RPM'])\".format(i, i))"
   ]
  },
  {
   "cell_type": "code",
   "execution_count": 20,
   "metadata": {},
   "outputs": [],
   "source": [
    "# NPY\n",
    "\n",
    "R4 = pd.read_excel('/Users/xiaoqisun/Desktop/Seven/UCB/Research/Jaquesta/npyaptamers.xlsx',sheet_name=0,header=None,names=['name','sequence'])\n",
    "R6 = pd.read_excel('/Users/xiaoqisun/Desktop/Seven/UCB/Research/Jaquesta/npyaptamers.xlsx',sheet_name=1,header=None,names=['name','sequence'])"
   ]
  },
  {
   "cell_type": "markdown",
   "metadata": {},
   "source": [
    "**Data processing:** processed data are saved into csv files"
   ]
  },
  {
   "cell_type": "code",
   "execution_count": 8,
   "metadata": {},
   "outputs": [],
   "source": [
    "# Serotonin\n",
    "\n",
    "# for i in np.arange(2,7):\n",
    "#    exec('R{}E_full_table_weighted = full_table_weighted(R{}E)'.format(i, i))\n",
    "#    exec('R{}E_frequency = weighted_freq_only(R{}E_full_table_weighted)'.format(i, i))\n",
    "#    exec('R{}C_full_table_weighted = full_table_weighted(R{}C)'.format(i, i))\n",
    "#    exec('R{}C_frequency = weighted_freq_only(R{}C_full_table_weighted)'.format(i, i))"
   ]
  },
  {
   "cell_type": "code",
   "execution_count": 9,
   "metadata": {},
   "outputs": [],
   "source": [
    "# Oxytocin\n",
    "\n",
    "# for i in np.arange(3,7):\n",
    "#    exec('R{}E_O_full_table_weighted = full_table_weighted(R{}E_O)'.format(i, i))\n",
    "#    exec('R{}E_O_frequency = weighted_freq_only(R{}E_O_full_table_weighted)'.format(i, i))"
   ]
  },
  {
   "cell_type": "code",
   "execution_count": 49,
   "metadata": {},
   "outputs": [],
   "source": [
    "# # # NPY - trimer\n",
    "# R4_full_table_trimer = full_table_trimer(R4)\n",
    "# R4_frequency_trimer = freq_only_trimer(R4_full_table_trimer)\n",
    "# R6_full_table_trimer = full_table_trimer(R6)\n",
    "# R6_frequency_trimer = freq_only_trimer(R6_full_table_trimer)\n",
    "\n",
    "\n",
    "# # NPY - quadrumer\n",
    "# R4_full_table_quadrumer = full_table_quadrumer(R4)\n",
    "# R4_frequency_quadrumer = freq_only_quadrumer(R4_full_table_quadrumer)\n",
    "# R6_full_table_quadrumer = full_table_quadrumer(R6)\n",
    "# R6_frequency_quadrumer = freq_only_quadrumer(R6_full_table_quadrumer)"
   ]
  },
  {
   "cell_type": "markdown",
   "metadata": {},
   "source": [
    "**Export processed data:** all RnE_frequency and full_table_weighted"
   ]
  },
  {
   "cell_type": "code",
   "execution_count": 11,
   "metadata": {},
   "outputs": [],
   "source": [
    "# Serotonin\n",
    "\n",
    "#for i in np.arange(2,7):\n",
    "#    exec(\"R{}E_frequency.to_csv('R{}E_frequency.csv', index=True)\".format(i, i))\n",
    "#    exec(\"R{}E_full_table_weighted.to_csv('R{}E_full_table_weighted.csv', index=True)\".format(i, i))\n",
    "#    exec(\"R{}C_frequency.to_csv('R{}C_frequency.csv', index=True)\".format(i, i))\n",
    "#    exec(\"R{}C_full_table_weighted.to_csv('R{}C_full_table_weighted.csv', index=True)\".format(i, i))"
   ]
  },
  {
   "cell_type": "code",
   "execution_count": 12,
   "metadata": {},
   "outputs": [],
   "source": [
    "# Oxytocin\n",
    "\n",
    "# for i in np.arange(3,7):\n",
    "#    exec(\"R{}E_O_frequency.to_csv('R{}E_O_frequency.csv', index=True)\".format(i, i))\n",
    "#    exec(\"R{}E_O_full_table_weighted.to_csv('R{}E_O_full_table_weighted.csv', index=True)\".format(i, i))"
   ]
  },
  {
   "cell_type": "code",
   "execution_count": 48,
   "metadata": {},
   "outputs": [],
   "source": [
    "# # NPY\n",
    "# R4_full_table_trimer.to_csv('R4_full_table_trimer.csv', index=True)  \n",
    "# R4_frequency_trimer.to_csv('R4_frequency_trimer.csv', index=True)  \n",
    "# R6_full_table_trimer.to_csv('R6_full_table_trimer.csv', index=True) \n",
    "# R6_frequency_trimer.to_csv('R6_frequency_trimer.csv', index=True) \n",
    "\n",
    "\n",
    "# R4_full_table_quadrumer.to_csv('R4_full_table_quadrumer.csv', index=True)  \n",
    "# R4_frequency_quadrumer.to_csv('R4_frequency_quadrumer.csv', index=True)  \n",
    "# R6_full_table_quadrumer.to_csv('R6_full_table_quadrumer.csv', index=True) \n",
    "# R6_frequency_quadrumer.to_csv('R6_frequency_quadrumer.csv', index=True) "
   ]
  },
  {
   "cell_type": "markdown",
   "metadata": {},
   "source": [
    "**Re-import processed data:**  the location is moved"
   ]
  },
  {
   "cell_type": "code",
   "execution_count": 14,
   "metadata": {},
   "outputs": [],
   "source": [
    "# # Serotonin\n",
    "\n",
    "# for i in np.arange(2,7):\n",
    "#     exec(\"R{}E_frequency = pd.read_csv(repo_url+'serotonin%20data%20processed/R{}E_frequency.csv',index_col='Quadrumer')\".format(i, i))\n",
    "#     exec(\"R{}C_frequency = pd.read_csv(repo_url+'serotonin%20data%20processed/R{}C_frequency.csv',index_col='Quadrumer')\".format(i, i))\n",
    "#     exec(\"R{}E_full_table_weighted = pd.read_csv(repo_url+'serotonin%20data%20processed/R{}E_full_table_weighted.csv',index_col=0)\".format(i, i))\n",
    "#     exec(\"R{}C_full_table_weighted = pd.read_csv(repo_url+'serotonin%20data%20processed/R{}C_full_table_weighted.csv',index_col=0)\".format(i, i))"
   ]
  },
  {
   "cell_type": "code",
   "execution_count": 15,
   "metadata": {},
   "outputs": [],
   "source": [
    "# # Oxytocin\n",
    "\n",
    "# for i in np.arange(3,7):\n",
    "#     exec(\"R{}E_O_frequency = pd.read_csv(repo_url+'Oxytocin%20processed%20data/R{}E_O_frequency.csv',index_col='Quadrumer')\".format(i, i))\n",
    "#     exec(\"R{}E_O_full_table_weighted = pd.read_csv(repo_url+'Oxytocin%20processed%20data/R{}E_O_full_table_weighted.csv',index_col=0)\".format(i, i))"
   ]
  },
  {
   "cell_type": "code",
   "execution_count": 50,
   "metadata": {},
   "outputs": [],
   "source": [
    "# NPY\n",
    "\n",
    "R4_full_table_trimer = pd.read_csv(repo_url+'NPY%20processed%20data/R4_full_table_trimer.csv',index_col=0)\n",
    "R4_frequency_trimer = pd.read_csv(repo_url+'NPY%20processed%20data/R4_frequency_trimer.csv',index_col=0)\n",
    "R6_full_table_trimer = pd.read_csv(repo_url+'NPY%20processed%20data/R6_full_table_trimer.csv',index_col=0)\n",
    "R6_frequency_trimer = pd.read_csv(repo_url+'NPY%20processed%20data/R6_frequency_trimer.csv',index_col=0)\n",
    "\n",
    "\n",
    "# NPY - quadrumer\n",
    "R4_full_table_quadrumer = pd.read_csv(repo_url+'NPY%20processed%20data/R4_full_table_quadrumer.csv',index_col=0)\n",
    "R4_frequency_quadrumer = pd.read_csv(repo_url+'NPY%20processed%20data/R4_frequency_quadrumer.csv',index_col=0)\n",
    "R6_full_table_quadrumer =  pd.read_csv(repo_url+'NPY%20processed%20data/R6_full_table_quadrumer.csv',index_col=0)\n",
    "R6_frequency_quadrumer = pd.read_csv(repo_url+'NPY%20processed%20data/R6_frequency_quadrumer.csv',index_col=0)"
   ]
  },
  {
   "cell_type": "code",
   "execution_count": null,
   "metadata": {},
   "outputs": [],
   "source": []
  }
 ],
 "metadata": {
  "kernelspec": {
   "display_name": "Python 3",
   "language": "python",
   "name": "python3"
  },
  "language_info": {
   "codemirror_mode": {
    "name": "ipython",
    "version": 3
   },
   "file_extension": ".py",
   "mimetype": "text/x-python",
   "name": "python",
   "nbconvert_exporter": "python",
   "pygments_lexer": "ipython3",
   "version": "3.8.8"
  }
 },
 "nbformat": 4,
 "nbformat_minor": 4
}
